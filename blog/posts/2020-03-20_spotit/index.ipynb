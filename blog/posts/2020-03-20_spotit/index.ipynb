{
  "cells": [
    {
      "cell_type": "raw",
      "metadata": {},
      "source": [
        "---\n",
        "title:  \"Visualizing a popular game\"\n",
        "date: 2020-03-23\n",
        "---"
      ],
      "id": "ee8beb5b"
    },
    {
      "cell_type": "markdown",
      "metadata": {},
      "source": [
        "I was over a friend's house and they had a game called \"Spot It!\" - a set of cards where each card had 6 different characters on it. We were talking about the constraint that every card has to have exactly one match with the other. I realized that it couldn't be random because there were 20 cards and 31 distinct characters, so simply selecting randomly would not ensure this. So I became curious about what the structure WAS behind the character selection on each card. I wrote a python script to visualize co-occurrence of symbols on the cards:"
      ],
      "id": "08de37e0"
    },
    {
      "cell_type": "code",
      "metadata": {},
      "source": [
        "| eval: false\n",
        "    import numpy as np\n",
        "    import webweb\n",
        "    import matplotlib.pyplot as plt\n",
        "\n",
        "    card1 = [\"car\",\"frog\",\"giraffe\",\"monkey\",\"turtle\",\"zebra\"]\n",
        "    card2 = [\"chameleon\",\"frog\",\"owl\",\"paw print\",\"snail\",\"tiger\"]\n",
        "    card3 = [\"fish\",\"flamingo\",\"lion\",\"sun\",\"tiger\",\"turtle\"]\n",
        "    card4 = [\"banana\",\"butterfly\",\"giraffe\",\"lion\",\"owl\",\"palm tree\"]\n",
        "    card5 = [\"compass\",\"palm tree\",\"rhino\",\"snail\",\"toucan\",\"turtle\"]\n",
        "    card6 = [\"boot\",\"compass\",\"hat\",\"lion\",\"paw print\",\"zebra\"]\n",
        "    card7 = [\"banana\",\"compass\",\"elephant\",\"ladybug\",\"monkey\",\"tiger\"]\n",
        "    card8 = [\"alligator\",\"boot\",\"butterfly\",\"chameleon\",\"ladybug\",\"turtle\"]\n",
        "    card9 = [\"butterfly\",\"fish\",\"flower\",\"monkey\",\"paw print\",\"rhino\"]\n",
        "    card10 = [\"alligator\",\"flower\",\"kangaroo\",\"palm tree\",\"tiger\",\"zebra\"]\n",
        "    card11 = [\"fish\",\"giraffe\",\"hat\",\"kangaroo\",\"ladybug\",\"snail\"]\n",
        "    card12 = [\"boot\",\"camera\",\"elephant\",\"fish\",\"frog\",\"palm tree\"]\n",
        "    card13 = [\"alligator\",\"camera\",\"fox\",\"lion\",\"monkey\",\"snail\"]\n",
        "    card14 = [\"binoculars\",\"chameleon\",\"hat\",\"monkey\",\"palm tree\",\"sun\"]\n",
        "    card15 = [\"binoculars\",\"flower\",\"frog\",\"ladybug\",\"lion\",\"toucan\"]\n",
        "    card16 = [\"alligator\",\"binoculars\",\"car\",\"compass\",\"fish\",\"owl\"]\n",
        "    card17 = [\"alligator\",\"elephant\",\"giraffe\",\"paw print\",\"sun\",\"toucan\"]\n",
        "    card18 = [\"binoculars\",\"butterfly\",\"elephant\",\"flamingo\",\"snail\",\"zebra\"]\n",
        "    card19 = [\"binoculars\",\"boot\",\"fox\",\"giraffe\",\"rhino\",\"tiger\"]\n",
        "    card20 = [\"butterfly\",\"camera\",\"car\",\"hat\",\"tiger\",\"toucan\"]\n",
        "\n",
        "    listOfCards = [card1,card2,card3,card4,card5,card6,card7,card8,card9,card10,\n",
        "                   card11,card12,card13,card14,card15,card16,card17,card18,card19,\n",
        "                   card20]\n",
        "\n",
        "    listOfNames = sorted(set([item for sublist in listOfCards for item in sublist]))\n",
        "    print(listOfNames)\n",
        "\n",
        "    n = len(listOfNames)\n",
        "    A = np.zeros([n,n])\n",
        "\n",
        "    displayNames = dict()\n",
        "    names = dict()\n",
        "    for i in range(n):\n",
        "        names[i] = {\"name\":listOfNames[i]}\n",
        "    displayNames[\"nodes\"] = names\n",
        "\n",
        "    for name in listOfNames:\n",
        "        i = listOfNames.index(name)\n",
        "        for card in listOfCards:\n",
        "            if name in set(card):\n",
        "\n",
        "                for character in set(card).difference({name}):\n",
        "                    j = listOfNames.index(character)\n",
        "                    A[i,j] = A[i,j] + 1\n",
        "    print(A)\n",
        "    plt.figure()\n",
        "    plt.pcolor(A)\n",
        "    plt.colorbar()\n",
        "    plt.show()\n",
        "\n",
        "    web = webweb.Web(A, display=displayNames)\n",
        "    web.display.charge = 1000\n",
        "    web.display.linkLength = 200\n",
        "    web.display.colorBy = 'degree'\n",
        "    web.display.sizeBy = 'degree'\n",
        "    web.display.showNodeNames = True\n",
        "    web.display.attachWebwebToElementWithId = 'spotit'\n",
        "    web.show()"
      ],
      "id": "4d70f3df",
      "execution_count": null,
      "outputs": []
    },
    {
      "cell_type": "markdown",
      "metadata": {},
      "source": [
        "from this, I visualized the following table of co-occurrences:\n",
        "\n",
        "<img src=\"/assets/images/spotit.png\" width=\"100%\" hspace=\"20\" align=\"left\">\n",
        "\n",
        "From this, we see that two characters can co-occur on a card at most once, and some characters never co-occur. Visualizing this as a network,\n",
        "\n",
        "<iframe src=\"/portfolio/webweb/spotit.html\" frameborder=\"0\" scrolling=\"no\" width=\"900\" height=\"750\"></iframe>\n",
        "\n",
        "And as it turns out, [other people](https://www.smithsonianmag.com/science-nature/math-card-game-spot-it-180970873/) have thought about this too! Very interesting problem and a nice little diversion."
      ],
      "id": "1960414e"
    }
  ],
  "metadata": {
    "kernelspec": {
      "name": "stan",
      "language": "python",
      "display_name": "stan"
    }
  },
  "nbformat": 4,
  "nbformat_minor": 5
}